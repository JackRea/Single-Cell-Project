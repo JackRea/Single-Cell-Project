{
 "metadata": {
  "language_info": {
   "codemirror_mode": {
    "name": "ipython",
    "version": 3
   },
   "file_extension": ".py",
   "mimetype": "text/x-python",
   "name": "python",
   "nbconvert_exporter": "python",
   "pygments_lexer": "ipython3",
   "version": "3.8.8"
  },
  "orig_nbformat": 2,
  "kernelspec": {
   "name": "python388jvsc74a57bd0f669e42020dcbe0110983b84f49315ea95156214cdc1256d3541f61dd3de87e0",
   "display_name": "Python 3.8.8 64-bit ('work': conda)"
  },
  "metadata": {
   "interpreter": {
    "hash": "f669e42020dcbe0110983b84f49315ea95156214cdc1256d3541f61dd3de87e0"
   }
  }
 },
 "nbformat": 4,
 "nbformat_minor": 2,
 "cells": [
  {
   "cell_type": "code",
   "execution_count": null,
   "metadata": {},
   "outputs": [],
   "source": [
    "import pandas as pd\n",
    "import numpy as np \n",
    "import seaborn as sns\n",
    "import matplotlib.pyplot as plt\n",
    "import random\n",
    "import math\n",
    "import itertools\n",
    "\n",
    "from scipy.stats import kstest\n",
    "from scipy.stats import poisson\n",
    "from scipy.stats import norm\n",
    "from scipy.stats import t\n",
    "from scipy.stats import chisquare\n",
    "\n",
    "from statsmodels.stats.gof import gof_binning_discrete\n",
    "\n",
    "from sklearn.preprocessing import StandardScaler\n",
    "from sklearn.mixture import BayesianGaussianMixture\n",
    "from sklearn import mixture\n",
    "\n",
    "\n",
    "from scipy import linalg\n",
    "import matplotlib as mpl\n",
    "from collections import Counter\n",
    "\n",
    "%matplotlib inline\n",
    "plt.style.use('ggplot')\n",
    "sns.set_style('whitegrid')"
   ]
  },
  {
   "cell_type": "code",
   "execution_count": null,
   "metadata": {},
   "outputs": [],
   "source": [
    "segment_size = 5000000\n",
    "calls = pd.read_csv('DataFrames/calls.tsv', sep='\\t')\n",
    "calls['#CHR'] = pd.to_numeric(calls['#CHR'].str.replace('chr', ''))\n",
    "calls = calls.sort_values(['CELL', '#CHR', 'START']).reset_index(drop=True)\n",
    "calls['SEGMENT'] = ((calls['START'] > 0) & (calls['START'] % segment_size == 0)).cumsum()\n",
    "calls['TOTAL'] = calls['START'].cumsum()\n",
    "calls\n"
   ]
  },
  {
   "cell_type": "code",
   "execution_count": null,
   "metadata": {},
   "outputs": [],
   "source": [
    "def spikiness(series):\n",
    "    if sum(series.values) == 0:\n",
    "        return np.nan\n",
    "    return sum(abs(series[1:].values - series[:-1].values)) / sum(series.values)"
   ]
  },
  {
   "cell_type": "code",
   "execution_count": null,
   "metadata": {},
   "outputs": [],
   "source": [
    "sp_df = calls.groupby(['CELL','SEGMENT'], sort=False, as_index=False).agg({'COUNT': ['var', spikiness], 'RDR': ['var', spikiness]})"
   ]
  },
  {
   "cell_type": "code",
   "execution_count": null,
   "metadata": {},
   "outputs": [],
   "source": [
    "sp_df.replace([np.inf, -np.inf], np.nan).dropna()\n",
    "sp_df.columns = sp_df.columns.map(' '.join).str.strip()\n",
    "sp_df"
   ]
  },
  {
   "cell_type": "code",
   "execution_count": null,
   "metadata": {},
   "outputs": [],
   "source": [
    "spdf = sp_df.groupby('CELL', sort=False, as_index=False).agg('median')\n",
    "spdf"
   ]
  },
  {
   "cell_type": "code",
   "execution_count": null,
   "metadata": {},
   "outputs": [],
   "source": [
    "ce = sp_df[sp_df['CELL'] == 'AAACCTGCAGGACCAA']\n",
    "np.median(ce['COUNT spikiness'].values)"
   ]
  },
  {
   "cell_type": "code",
   "execution_count": null,
   "metadata": {},
   "outputs": [],
   "source": [
    "count_number_df = pd.read_csv('DataFrames/Combined_pvalues.csv', index_col=[0]).sort_values('RDR T Score', ascending=False)\n",
    "best_cell, worst_cell = count_number_df['CELL'].head(1).values[0], count_number_df['CELL'].tail(1).values[0]\n",
    "\n",
    "y_height = -12\n",
    "gs_kw = dict(width_ratios=[2] * 1, height_ratios=[1] * 2)\n",
    "fig, ax = plt.subplots(2,1, figsize=(16,10), sharex=True, gridspec_kw=gs_kw, tight_layout=True)\n",
    "for num,cell in enumerate([best_cell, worst_cell]):\n",
    "    plot = calls[calls['CELL'] == cell].copy()\n",
    "    plot['TOTAL'] = plot['START'].cumsum()\n",
    "\n",
    "    end_of_chromosomes = plot.drop_duplicates('#CHR', keep='last').reset_index(drop=True)['TOTAL'].values\n",
    "    _positions = np.insert(end_of_chromosomes, 0, 0)\n",
    "    positions = (_positions[1:] + _positions[:-1]) / 2\n",
    "\n",
    "    s = sns.scatterplot(data=plot, x='TOTAL', y='COUNT',hue='#CHR', legend=False, palette='Dark2',ax=ax[num])\n",
    "    s.set_title('BEST CELL' if num == 0 else 'WORST CELL')\n",
    "    s.axis((0, plot['TOTAL'].max(), 0, 150))\n",
    "    s.set_xticks([]);s.set_yticks([]);s.set_xlabel('');s.set_ylabel('COUNT')\n",
    "    if num == 1:\n",
    "        chr_labels = list(map(lambda position:s.text(position[1], y_height, f'Chr{position[0]}',\\\n",
    "             rotation='vertical', transform=s.transData), enumerate(positions, start=1)))\n",
    "    vlines = list(map(lambda x: s.axvline(x, color='black',alpha=1, lw=0.5), end_of_chromosomes))\n",
    "\n",
    "fig.savefig('Thesis Figures/T_count_example.pdf', format='pdf')\n"
   ]
  },
  {
   "cell_type": "code",
   "execution_count": null,
   "metadata": {},
   "outputs": [],
   "source": [
    "best_cell"
   ]
  },
  {
   "cell_type": "code",
   "execution_count": null,
   "metadata": {},
   "outputs": [],
   "source": [
    "calls[calls['CELL'] == worst_cell]['RDR'].var()"
   ]
  },
  {
   "cell_type": "code",
   "execution_count": null,
   "metadata": {},
   "outputs": [],
   "source": []
  }
 ]
}